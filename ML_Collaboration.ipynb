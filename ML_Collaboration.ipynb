{
  "cells": [
    {
      "cell_type": "markdown",
      "metadata": {
        "colab_type": "text",
        "id": "view-in-github"
      },
      "source": [
        "<a href=\"https://colab.research.google.com/github/dengathitu/ML-Collaboration/blob/main/ML_Collaboration.ipynb\" target=\"_parent\"><img src=\"https://colab.research.google.com/assets/colab-badge.svg\" alt=\"Open In Colab\"/></a>"
      ]
    },
    {
      "cell_type": "markdown",
      "metadata": {
        "id": "r7Ysb9x0w0u8"
      },
      "source": [
        "# Problem Statement"
      ]
    },
    {
      "cell_type": "markdown",
      "metadata": {},
      "source": [
        "XYZ Ltd is facing issues of employee attrition. \n",
        "They want to predict when the attrition occur for ease of preparedness. They need a data scientist to be able to create a machine learning pipeline that will enable them to predict whether an employee will quit or not."
      ]
    },
    {
      "cell_type": "markdown",
      "metadata": {},
      "source": [
        " # Data Exploration\n",
        "Understanding the data structure of the dataset"
      ]
    },
    {
      "cell_type": "code",
      "execution_count": null,
      "metadata": {},
      "outputs": [],
      "source": [
        "import pandas as pd\n",
        "import numpy\n",
        "from imblearn.over_sampling import SMOTE"
      ]
    },
    {
      "cell_type": "code",
      "execution_count": 3,
      "metadata": {},
      "outputs": [],
      "source": [
        "df = pd.read_csv(\"HR-Employee-Attrition.csv\")"
      ]
    },
    {
      "cell_type": "markdown",
      "metadata": {},
      "source": [
        "**Print an overview of the dataset**"
      ]
    },
    {
      "cell_type": "code",
      "execution_count": 4,
      "metadata": {},
      "outputs": [
        {
          "name": "stdout",
          "output_type": "stream",
          "text": [
            "<class 'pandas.core.frame.DataFrame'>\n",
            "RangeIndex: 1470 entries, 0 to 1469\n",
            "Data columns (total 35 columns):\n",
            " #   Column                    Non-Null Count  Dtype \n",
            "---  ------                    --------------  ----- \n",
            " 0   Age                       1470 non-null   int64 \n",
            " 1   Attrition                 1470 non-null   object\n",
            " 2   BusinessTravel            1470 non-null   object\n",
            " 3   DailyRate                 1470 non-null   int64 \n",
            " 4   Department                1470 non-null   object\n",
            " 5   DistanceFromHome          1470 non-null   int64 \n",
            " 6   Education                 1470 non-null   int64 \n",
            " 7   EducationField            1470 non-null   object\n",
            " 8   EmployeeCount             1470 non-null   int64 \n",
            " 9   EmployeeNumber            1470 non-null   int64 \n",
            " 10  EnvironmentSatisfaction   1470 non-null   int64 \n",
            " 11  Gender                    1470 non-null   object\n",
            " 12  HourlyRate                1470 non-null   int64 \n",
            " 13  JobInvolvement            1470 non-null   int64 \n",
            " 14  JobLevel                  1470 non-null   int64 \n",
            " 15  JobRole                   1470 non-null   object\n",
            " 16  JobSatisfaction           1470 non-null   int64 \n",
            " 17  MaritalStatus             1470 non-null   object\n",
            " 18  MonthlyIncome             1470 non-null   int64 \n",
            " 19  MonthlyRate               1470 non-null   int64 \n",
            " 20  NumCompaniesWorked        1470 non-null   int64 \n",
            " 21  Over18                    1470 non-null   object\n",
            " 22  OverTime                  1470 non-null   object\n",
            " 23  PercentSalaryHike         1470 non-null   int64 \n",
            " 24  PerformanceRating         1470 non-null   int64 \n",
            " 25  RelationshipSatisfaction  1470 non-null   int64 \n",
            " 26  StandardHours             1470 non-null   int64 \n",
            " 27  StockOptionLevel          1470 non-null   int64 \n",
            " 28  TotalWorkingYears         1470 non-null   int64 \n",
            " 29  TrainingTimesLastYear     1470 non-null   int64 \n",
            " 30  WorkLifeBalance           1470 non-null   int64 \n",
            " 31  YearsAtCompany            1470 non-null   int64 \n",
            " 32  YearsInCurrentRole        1470 non-null   int64 \n",
            " 33  YearsSinceLastPromotion   1470 non-null   int64 \n",
            " 34  YearsWithCurrManager      1470 non-null   int64 \n",
            "dtypes: int64(26), object(9)\n",
            "memory usage: 402.1+ KB\n"
          ]
        }
      ],
      "source": [
        "df.info()"
      ]
    },
    {
      "cell_type": "markdown",
      "metadata": {},
      "source": [
        "**Description**\n",
        "* There are 1470 entries.\n",
        "* There are 26 numerical futures\n",
        "* There 9 categorical features"
      ]
    },
    {
      "cell_type": "markdown",
      "metadata": {},
      "source": [
        "**Check for null values**"
      ]
    },
    {
      "cell_type": "code",
      "execution_count": 5,
      "metadata": {},
      "outputs": [
        {
          "data": {
            "text/plain": [
              "Age                         0\n",
              "Attrition                   0\n",
              "BusinessTravel              0\n",
              "DailyRate                   0\n",
              "Department                  0\n",
              "DistanceFromHome            0\n",
              "Education                   0\n",
              "EducationField              0\n",
              "EmployeeCount               0\n",
              "EmployeeNumber              0\n",
              "EnvironmentSatisfaction     0\n",
              "Gender                      0\n",
              "HourlyRate                  0\n",
              "JobInvolvement              0\n",
              "JobLevel                    0\n",
              "JobRole                     0\n",
              "JobSatisfaction             0\n",
              "MaritalStatus               0\n",
              "MonthlyIncome               0\n",
              "MonthlyRate                 0\n",
              "NumCompaniesWorked          0\n",
              "Over18                      0\n",
              "OverTime                    0\n",
              "PercentSalaryHike           0\n",
              "PerformanceRating           0\n",
              "RelationshipSatisfaction    0\n",
              "StandardHours               0\n",
              "StockOptionLevel            0\n",
              "TotalWorkingYears           0\n",
              "TrainingTimesLastYear       0\n",
              "WorkLifeBalance             0\n",
              "YearsAtCompany              0\n",
              "YearsInCurrentRole          0\n",
              "YearsSinceLastPromotion     0\n",
              "YearsWithCurrManager        0\n",
              "dtype: int64"
            ]
          },
          "execution_count": 5,
          "metadata": {},
          "output_type": "execute_result"
        }
      ],
      "source": [
        "df.isnull().sum()"
      ]
    },
    {
      "cell_type": "markdown",
      "metadata": {},
      "source": [
        "**Interpretation**\n",
        "* The dataset has no null values. "
      ]
    },
    {
      "cell_type": "markdown",
      "metadata": {},
      "source": [
        "**check for duplicates**"
      ]
    },
    {
      "cell_type": "code",
      "execution_count": 6,
      "metadata": {},
      "outputs": [
        {
          "name": "stdout",
          "output_type": "stream",
          "text": [
            "number of duplicated columns are; 0\n"
          ]
        }
      ],
      "source": [
        "data=df.duplicated().sum()\n",
        "print(\"number of duplicated columns are;\", data)"
      ]
    },
    {
      "cell_type": "markdown",
      "metadata": {},
      "source": [
        "**Find column names**"
      ]
    },
    {
      "cell_type": "code",
      "execution_count": null,
      "metadata": {},
      "outputs": [
        {
          "data": {
            "text/plain": [
              "Index(['Age', 'Attrition', 'BusinessTravel', 'DailyRate', 'Department',\n",
              "       'DistanceFromHome', 'Education', 'EducationField', 'EmployeeCount',\n",
              "       'EmployeeNumber', 'EnvironmentSatisfaction', 'Gender', 'HourlyRate',\n",
              "       'JobInvolvement', 'JobLevel', 'JobRole', 'JobSatisfaction',\n",
              "       'MaritalStatus', 'MonthlyIncome', 'MonthlyRate', 'NumCompaniesWorked',\n",
              "       'Over18', 'OverTime', 'PercentSalaryHike', 'PerformanceRating',\n",
              "       'RelationshipSatisfaction', 'StandardHours', 'StockOptionLevel',\n",
              "       'TotalWorkingYears', 'TrainingTimesLastYear', 'WorkLifeBalance',\n",
              "       'YearsAtCompany', 'YearsInCurrentRole', 'YearsSinceLastPromotion',\n",
              "       'YearsWithCurrManager'],\n",
              "      dtype='object')"
            ]
          },
          "execution_count": 7,
          "metadata": {},
          "output_type": "execute_result"
        }
      ],
      "source": [
        "#Check all the columns in the dataset\n",
        "df.columns"
      ]
    },
    {
      "cell_type": "markdown",
      "metadata": {},
      "source": [
        "# Data Preprocessing \n",
        "Clean the dataset ready for analysis"
      ]
    },
    {
      "cell_type": "code",
      "execution_count": 8,
      "metadata": {},
      "outputs": [],
      "source": [
        "categorical_variables = df.select_dtypes(include=[\"object\"]).columns.tolist()"
      ]
    },
    {
      "cell_type": "code",
      "execution_count": 9,
      "metadata": {},
      "outputs": [
        {
          "name": "stdout",
          "output_type": "stream",
          "text": [
            "<class 'pandas.core.frame.DataFrame'>\n",
            "RangeIndex: 1470 entries, 0 to 1469\n",
            "Data columns (total 48 columns):\n",
            " #   Column                             Non-Null Count  Dtype\n",
            "---  ------                             --------------  -----\n",
            " 0   Age                                1470 non-null   int64\n",
            " 1   DailyRate                          1470 non-null   int64\n",
            " 2   DistanceFromHome                   1470 non-null   int64\n",
            " 3   Education                          1470 non-null   int64\n",
            " 4   EmployeeCount                      1470 non-null   int64\n",
            " 5   EmployeeNumber                     1470 non-null   int64\n",
            " 6   EnvironmentSatisfaction            1470 non-null   int64\n",
            " 7   HourlyRate                         1470 non-null   int64\n",
            " 8   JobInvolvement                     1470 non-null   int64\n",
            " 9   JobLevel                           1470 non-null   int64\n",
            " 10  JobSatisfaction                    1470 non-null   int64\n",
            " 11  MonthlyIncome                      1470 non-null   int64\n",
            " 12  MonthlyRate                        1470 non-null   int64\n",
            " 13  NumCompaniesWorked                 1470 non-null   int64\n",
            " 14  PercentSalaryHike                  1470 non-null   int64\n",
            " 15  PerformanceRating                  1470 non-null   int64\n",
            " 16  RelationshipSatisfaction           1470 non-null   int64\n",
            " 17  StandardHours                      1470 non-null   int64\n",
            " 18  StockOptionLevel                   1470 non-null   int64\n",
            " 19  TotalWorkingYears                  1470 non-null   int64\n",
            " 20  TrainingTimesLastYear              1470 non-null   int64\n",
            " 21  WorkLifeBalance                    1470 non-null   int64\n",
            " 22  YearsAtCompany                     1470 non-null   int64\n",
            " 23  YearsInCurrentRole                 1470 non-null   int64\n",
            " 24  YearsSinceLastPromotion            1470 non-null   int64\n",
            " 25  YearsWithCurrManager               1470 non-null   int64\n",
            " 26  Attrition_Yes                      1470 non-null   bool \n",
            " 27  BusinessTravel_Travel_Frequently   1470 non-null   bool \n",
            " 28  BusinessTravel_Travel_Rarely       1470 non-null   bool \n",
            " 29  Department_Research & Development  1470 non-null   bool \n",
            " 30  Department_Sales                   1470 non-null   bool \n",
            " 31  EducationField_Life Sciences       1470 non-null   bool \n",
            " 32  EducationField_Marketing           1470 non-null   bool \n",
            " 33  EducationField_Medical             1470 non-null   bool \n",
            " 34  EducationField_Other               1470 non-null   bool \n",
            " 35  EducationField_Technical Degree    1470 non-null   bool \n",
            " 36  Gender_Male                        1470 non-null   bool \n",
            " 37  JobRole_Human Resources            1470 non-null   bool \n",
            " 38  JobRole_Laboratory Technician      1470 non-null   bool \n",
            " 39  JobRole_Manager                    1470 non-null   bool \n",
            " 40  JobRole_Manufacturing Director     1470 non-null   bool \n",
            " 41  JobRole_Research Director          1470 non-null   bool \n",
            " 42  JobRole_Research Scientist         1470 non-null   bool \n",
            " 43  JobRole_Sales Executive            1470 non-null   bool \n",
            " 44  JobRole_Sales Representative       1470 non-null   bool \n",
            " 45  MaritalStatus_Married              1470 non-null   bool \n",
            " 46  MaritalStatus_Single               1470 non-null   bool \n",
            " 47  OverTime_Yes                       1470 non-null   bool \n",
            "dtypes: bool(22), int64(26)\n",
            "memory usage: 330.3 KB\n"
          ]
        }
      ],
      "source": [
        "encoded_data = pd.get_dummies(df,columns=categorical_variables, drop_first=True)\n",
        "encoded_data.info()\n"
      ]
    },
    {
      "cell_type": "markdown",
      "metadata": {},
      "source": [
        "# Interpretation\n",
        "* There are 22 Booleans\n",
        "* There are 26 intergers (numerical data)"
      ]
    },
    {
      "cell_type": "markdown",
      "metadata": {},
      "source": [
        "**Data redudancy**\n",
        "* Repetitive data reduces the quality of our data"
      ]
    },
    {
      "cell_type": "code",
      "execution_count": 11,
      "metadata": {},
      "outputs": [
        {
          "name": "stdout",
          "output_type": "stream",
          "text": [
            "Repetative columns are; ['EmployeeCount', 'Over18', 'StandardHours']\n"
          ]
        }
      ],
      "source": [
        "List = [col for col in df.columns if df[col].nunique()==1]\n",
        "print(\"Repetative columns are;\", List)"
      ]
    },
    {
      "cell_type": "code",
      "execution_count": 14,
      "metadata": {},
      "outputs": [],
      "source": [
        "drop = df.drop(columns=List)"
      ]
    },
    {
      "cell_type": "code",
      "execution_count": 18,
      "metadata": {},
      "outputs": [
        {
          "data": {
            "text/plain": [
              "Index(['Age', 'Attrition', 'BusinessTravel', 'DailyRate', 'Department',\n",
              "       'DistanceFromHome', 'Education', 'EducationField', 'EmployeeNumber',\n",
              "       'EnvironmentSatisfaction', 'Gender', 'HourlyRate', 'JobInvolvement',\n",
              "       'JobLevel', 'JobRole', 'JobSatisfaction', 'MaritalStatus',\n",
              "       'MonthlyIncome', 'MonthlyRate', 'NumCompaniesWorked', 'OverTime',\n",
              "       'PercentSalaryHike', 'PerformanceRating', 'RelationshipSatisfaction',\n",
              "       'StockOptionLevel', 'TotalWorkingYears', 'TrainingTimesLastYear',\n",
              "       'WorkLifeBalance', 'YearsAtCompany', 'YearsInCurrentRole',\n",
              "       'YearsSinceLastPromotion', 'YearsWithCurrManager'],\n",
              "      dtype='object')"
            ]
          },
          "execution_count": 18,
          "metadata": {},
          "output_type": "execute_result"
        }
      ],
      "source": [
        "drop.columns"
      ]
    },
    {
      "cell_type": "markdown",
      "metadata": {},
      "source": [
        "**Class Imbalanace**  \n",
        "To prevent biasness of the machine learning model, we have to balance the classes so that the machine doesn't predict only value"
      ]
    },
    {
      "cell_type": "code",
      "execution_count": null,
      "metadata": {},
      "outputs": [],
      "source": [
        "X = encoded_data.drop(columns = [\"Attrition_Yes\"])\n",
        "y = encoded_data[\"Attrition_Yes\"]\n"
      ]
    }
  ],
  "metadata": {
    "colab": {
      "authorship_tag": "ABX9TyMDOUY9LifSslxGRC/uamTY",
      "include_colab_link": true,
      "provenance": []
    },
    "kernelspec": {
      "display_name": "Python 3",
      "name": "python3"
    },
    "language_info": {
      "codemirror_mode": {
        "name": "ipython",
        "version": 3
      },
      "file_extension": ".py",
      "mimetype": "text/x-python",
      "name": "python",
      "nbconvert_exporter": "python",
      "pygments_lexer": "ipython3",
      "version": "3.12.1"
    }
  },
  "nbformat": 4,
  "nbformat_minor": 0
}
