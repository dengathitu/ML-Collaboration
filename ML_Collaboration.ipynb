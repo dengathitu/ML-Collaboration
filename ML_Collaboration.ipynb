{
  "cells": [
    {
      "cell_type": "markdown",
      "metadata": {
        "colab_type": "text",
        "id": "view-in-github"
      },
      "source": [
        "<a href=\"https://colab.research.google.com/github/dengathitu/ML-Collaboration/blob/main/ML_Collaboration.ipynb\" target=\"_parent\"><img src=\"https://colab.research.google.com/assets/colab-badge.svg\" alt=\"Open In Colab\"/></a>"
      ]
    },
    {
      "cell_type": "code",
      "execution_count": null,
      "metadata": {
        "id": "peR6fN4CvtVB"
      },
      "outputs": [],
      "source": [
        "#hi Den"
      ]
    },
    {
      "cell_type": "markdown",
      "metadata": {
        "id": "r7Ysb9x0w0u8"
      },
      "source": [
        "Problem Statement"
      ]
    },
    {
      "cell_type": "markdown",
      "metadata": {},
      "source": [
        "XYZ Ltd is facing issues of employee attrition. \n",
        "They want to predict when the attrition occur for ease of preparedness. The need a data scientist to be able to create a machine learning pipeline that will enable them to predict whether an employee will quit or not."
      ]
    }
  ],
  "metadata": {
    "colab": {
      "authorship_tag": "ABX9TyMDOUY9LifSslxGRC/uamTY",
      "include_colab_link": true,
      "provenance": []
    },
    "kernelspec": {
      "display_name": "Python 3",
      "name": "python3"
    },
    "language_info": {
      "name": "python"
    }
  },
  "nbformat": 4,
  "nbformat_minor": 0
}
